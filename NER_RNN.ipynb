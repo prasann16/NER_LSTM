{
 "cells": [
  {
   "cell_type": "code",
   "execution_count": 4,
   "metadata": {
    "collapsed": true
   },
   "outputs": [],
   "source": [
    "# importing libraries\n",
    "import os"
   ]
  },
  {
   "cell_type": "markdown",
   "metadata": {},
   "source": [
    "## Build Vocabulary"
   ]
  },
  {
   "cell_type": "code",
   "execution_count": null,
   "metadata": {},
   "outputs": [],
   "source": []
  },
  {
   "cell_type": "code",
   "execution_count": 6,
   "metadata": {
    "collapsed": true
   },
   "outputs": [],
   "source": [
    "# Loading text data\n",
    "words_path = \"/Users/Prasann/Desktop/cs230-code-examples/pytorch/nlp/data/small/words.txt\"\n",
    "vocab = {}\n",
    "with open(words_path) as f:\n",
    "    for i, l in enumerate(f.read().splitlines()):\n",
    "        vocab[l] = i"
   ]
  },
  {
   "cell_type": "code",
   "execution_count": 8,
   "metadata": {
    "collapsed": true
   },
   "outputs": [],
   "source": [
    "tags_path = \"/Users/Prasann/Desktop/cs230-code-examples/pytorch/nlp/data/small/tags.txt\"\n",
    "tag_map = {}\n",
    "with open(tags_path) as f:\n",
    "    for i, l in enumerate(f.read().splitlines()):\n",
    "        tag_map[l] = i"
   ]
  },
  {
   "cell_type": "code",
   "execution_count": 12,
   "metadata": {
    "collapsed": true
   },
   "outputs": [],
   "source": [
    "train_sentences = []        \n",
    "train_labels = []\n",
    "train_sentences_file = '/Users/Prasann/Desktop/cs230-code-examples/pytorch/nlp/data/small/train/sentences.txt'\n",
    "train_labels_file = '/Users/Prasann/Desktop/cs230-code-examples/pytorch/nlp/data/small/train/labels.txt'\n",
    "\n",
    "with open(train_sentences_file) as f:\n",
    "    for sentence in f.read().splitlines():\n",
    "        # replace each token by its index if it is in vocab\n",
    "        # else use index of UNK\n",
    "        s = [vocab[token] if token in vocab \n",
    "             else vocab['UNK']\n",
    "             for token in sentence.split(' ')]\n",
    "        train_sentences.append(s)\n",
    "    \n",
    "with open(train_labels_file) as f:\n",
    "    for sentence in f.read().splitlines():\n",
    "        # replace each label by its index\n",
    "        l = [tag_map[label] for label in sentence.split(' ')]\n",
    "        train_labels.append(l)  "
   ]
  },
  {
   "cell_type": "code",
   "execution_count": 17,
   "metadata": {},
   "outputs": [
    {
     "data": {
      "text/plain": [
       "10"
      ]
     },
     "execution_count": 17,
     "metadata": {},
     "output_type": "execute_result"
    }
   ],
   "source": [
    "len(train_labels)"
   ]
  },
  {
   "cell_type": "markdown",
   "metadata": {},
   "source": [
    "## Preparing a Batch"
   ]
  },
  {
   "cell_type": "code",
   "execution_count": null,
   "metadata": {
    "collapsed": true
   },
   "outputs": [],
   "source": [
    "# compute length of longest sentence in batch\n",
    "batch_max_len = max([len(s) for s in batch_sentences])\n",
    "\n",
    "# prepare a numpy array with the data, initializing the data with 'PAD' \n",
    "# and all labels with -1; initializing labels to -1 differentiates tokens \n",
    "# with tags from 'PAD' tokens\n",
    "batch_data = vocab['PAD']*np.ones((len(batch_sentences), batch_max_len))\n",
    "batch_labels = -1*np.ones((len(batch_sentences), batch_max_len))\n",
    "\n",
    "# copy the data to the numpy array\n",
    "for j in range(len(batch_sentences)):\n",
    "    cur_len = len(batch_sentences[j])\n",
    "    batch_data[j][:cur_len] = batch_sentences[j]\n",
    "    batch_labels[j][:cur_len] = batch_tags[j]\n",
    "\n",
    "# since all data are indices, we convert them to torch LongTensors\n",
    "batch_data, batch_labels = torch.LongTensor(batch_data), torch.LongTensor(batch_labels)\n",
    "\n",
    "# convert Tensors to Variables\n",
    "batch_data, batch_labels = Variable(batch_data), Variable(batch_labels)\n"
   ]
  }
 ],
 "metadata": {
  "kernelspec": {
   "display_name": "Python 3",
   "language": "python",
   "name": "python3"
  },
  "language_info": {
   "codemirror_mode": {
    "name": "ipython",
    "version": 3
   },
   "file_extension": ".py",
   "mimetype": "text/x-python",
   "name": "python",
   "nbconvert_exporter": "python",
   "pygments_lexer": "ipython3",
   "version": "3.6.3"
  }
 },
 "nbformat": 4,
 "nbformat_minor": 2
}
